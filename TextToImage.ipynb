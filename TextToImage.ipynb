{
  "cells": [
    {
      "cell_type": "code",
      "execution_count": 5,
      "metadata": {
        "id": "-VwiWVJ5AdpU"
      },
      "outputs": [],
      "source": [
        "#!pip install diffusers transformers accelerate safetensors gradio -q"
      ]
    },
    {
      "cell_type": "code",
      "execution_count": null,
      "metadata": {
        "colab": {
          "base_uri": "https://localhost:8080/",
          "height": 678,
          "referenced_widgets": [
            "5213f64cb3e74be0abc6996acd83b0f2",
            "e49d8dcf941748cf829c0a289a68e2aa",
            "2e789c256a114ec2abfbf03da7d2eca3",
            "07934b608cd6476bba9ff4b43e1b4778",
            "4d5db18b5d81439c9e0727637d74b377",
            "62fa66597934440cb69b8d4fe2b8c973",
            "15a3e2f8b98441e3a1dff18f94b47f92",
            "c42a1c03eabb4c7dacfc8e9ad9af1f83",
            "1317f69acea145e0a65467cf8bbad781",
            "873840b17f8548b2b96b79b6e1e1ac7c",
            "b0c529f95a184a2cb5e7abee7819d7e0"
          ]
        },
        "id": "SIm5ceccGu0O",
        "outputId": "a329d88d-72cb-4c08-db02-5c9760f00850"
      },
      "outputs": [
        {
          "data": {
            "application/vnd.jupyter.widget-view+json": {
              "model_id": "2542ef38b6fb4baab2d4388506641f61",
              "version_major": 2,
              "version_minor": 0
            },
            "text/plain": [
              "Loading pipeline components...:   0%|          | 0/7 [00:00<?, ?it/s]"
            ]
          },
          "metadata": {},
          "output_type": "display_data"
        },
        {
          "name": "stdout",
          "output_type": "stream",
          "text": [
            "* Running on local URL:  http://127.0.0.1:7861\n",
            "* To create a public link, set `share=True` in `launch()`.\n"
          ]
        },
        {
          "data": {
            "text/html": [
              "<div><iframe src=\"http://127.0.0.1:7861/\" width=\"100%\" height=\"500\" allow=\"autoplay; camera; microphone; clipboard-read; clipboard-write;\" frameborder=\"0\" allowfullscreen></iframe></div>"
            ],
            "text/plain": [
              "<IPython.core.display.HTML object>"
            ]
          },
          "metadata": {},
          "output_type": "display_data"
        },
        {
          "data": {
            "text/plain": []
          },
          "execution_count": 2,
          "metadata": {},
          "output_type": "execute_result"
        }
      ],
      "source": [
        "import torch\n",
        "import gradio as gr\n",
        "from diffusers import StableDiffusionXLPipeline\n",
        "from huggingface_hub import login\n",
        "from PIL import Image\n",
        "import io\n",
        "import datetime\n",
        "import traceback\n",
        "import base64\n",
        "\n",
        "# Step 1: Login to Hugging Face\n",
        "try:\n",
        "    login(\"your_huggingface_token_here\")\n",
        "except Exception as e:\n",
        "    print(\"❌ Hugging Face login failed:\", e)\n",
        "\n",
        "# Step 2: Load Model\n",
        "try:\n",
        "    pipe = StableDiffusionXLPipeline.from_pretrained(\n",
        "        \"stabilityai/sdxl-turbo\",\n",
        "        torch_dtype=torch.float16,\n",
        "        variant=\"fp16\",\n",
        "        use_safetensors=True\n",
        "    ).to(\"cuda\")\n",
        "except Exception as e:\n",
        "    print(\"❌ Error loading model:\", e)\n",
        "    pipe = None\n",
        "\n",
        "# Step 3: Generate image and create download link\n",
        "def generate_image_with_download(prompt):\n",
        "    try:\n",
        "        if not prompt or len(prompt.strip()) < 5:\n",
        "            raise ValueError(\"Prompt must be at least 5 characters.\")\n",
        "\n",
        "        if pipe is None:\n",
        "            raise RuntimeError(\"Model not loaded. Check token or runtime.\")\n",
        "\n",
        "        image = pipe(prompt=prompt, guidance_scale=0.0, num_inference_steps=2).images[0]\n",
        "\n",
        "        # Save image to memory\n",
        "        buffer = io.BytesIO()\n",
        "        image.save(buffer, format=\"PNG\")\n",
        "        buffer.seek(0)\n",
        "\n",
        "        # Convert to base64\n",
        "        img_base64 = base64.b64encode(buffer.read()).decode('utf-8')\n",
        "\n",
        "        # Create download link\n",
        "        html = f'''\n",
        "        <a download=\"generated_image.png\" href=\"data:image/png;base64,{img_base64}\" target=\"_blank\">\n",
        "            <button style=\"padding: 8px 16px; background-color: #00b894; color: white; border: none; border-radius: 5px; font-weight: bold;\">\n",
        "                ⬇️ Download Image\n",
        "            </button>\n",
        "        </a>\n",
        "        '''\n",
        "\n",
        "        return image, html, \"✅ Image generated successfully!\"\n",
        "\n",
        "    except Exception as e:\n",
        "        traceback.print_exc()\n",
        "        return None, \"\", f\"❌ Error: {str(e)}\"\n",
        "\n",
        "# Step 4: Gradio UI\n",
        "with gr.Blocks(theme=gr.themes.Soft(), css=\"\"\"\n",
        "#header {text-align: center; font-size: 32px; font-weight: bold; margin-bottom: 10px;}\n",
        ".gr-button {font-weight: bold;}\n",
        "#status {font-size: 16px; margin-top: 10px; color: #333;}\n",
        "\"\"\") as demo:\n",
        "\n",
        "    gr.HTML('<div id=\"header\">🎨 SDXL Turbo - Text to Image Generator</div>')\n",
        "\n",
        "    with gr.Row():\n",
        "        with gr.Column(scale=1):\n",
        "            prompt = gr.Textbox(label=\"📝 Enter your creative prompt\",\n",
        "                                placeholder=\"e.g., A futuristic dragon flying over Tokyo\",\n",
        "                                lines=2, max_lines=3)\n",
        "            generate_btn = gr.Button(\"🚀 Generate Image\", variant=\"primary\")\n",
        "            status_output = gr.Textbox(label=\"\", elem_id=\"status\", interactive=False)\n",
        "\n",
        "        with gr.Column(scale=2):\n",
        "            image_output = gr.Image(label=\"🖼️ Output Image\", show_label=True)\n",
        "            download_html = gr.HTML(label=\"⬇️ Click to Download\")\n",
        "\n",
        "    generate_btn.click(\n",
        "        fn=generate_image_with_download,\n",
        "        inputs=prompt,\n",
        "        outputs=[image_output, download_html, status_output]\n",
        "    )\n",
        "\n",
        "demo.launch()\n"
      ]
    },
    {
      "cell_type": "code",
      "execution_count": null,
      "metadata": {
        "id": "tTRIcmolIMxe"
      },
      "outputs": [],
      "source": []
    }
  ],
  "metadata": {
    "accelerator": "GPU",
    "colab": {
      "gpuType": "T4",
      "provenance": []
    },
    "kernelspec": {
      "display_name": "venv",
      "language": "python",
      "name": "python3"
    },
    "language_info": {
      "codemirror_mode": {
        "name": "ipython",
        "version": 3
      },
      "file_extension": ".py",
      "mimetype": "text/x-python",
      "name": "python",
      "nbconvert_exporter": "python",
      "pygments_lexer": "ipython3",
      "version": "3.12.10"
    },
    "widgets": {
      "application/vnd.jupyter.widget-state+json": {
        "07934b608cd6476bba9ff4b43e1b4778": {
          "model_module": "@jupyter-widgets/controls",
          "model_module_version": "1.5.0",
          "model_name": "HTMLModel",
          "state": {
            "_dom_classes": [],
            "_model_module": "@jupyter-widgets/controls",
            "_model_module_version": "1.5.0",
            "_model_name": "HTMLModel",
            "_view_count": null,
            "_view_module": "@jupyter-widgets/controls",
            "_view_module_version": "1.5.0",
            "_view_name": "HTMLView",
            "description": "",
            "description_tooltip": null,
            "layout": "IPY_MODEL_873840b17f8548b2b96b79b6e1e1ac7c",
            "placeholder": "​",
            "style": "IPY_MODEL_b0c529f95a184a2cb5e7abee7819d7e0",
            "value": " 7/7 [00:02&lt;00:00,  2.17it/s]"
          }
        },
        "1317f69acea145e0a65467cf8bbad781": {
          "model_module": "@jupyter-widgets/controls",
          "model_module_version": "1.5.0",
          "model_name": "ProgressStyleModel",
          "state": {
            "_model_module": "@jupyter-widgets/controls",
            "_model_module_version": "1.5.0",
            "_model_name": "ProgressStyleModel",
            "_view_count": null,
            "_view_module": "@jupyter-widgets/base",
            "_view_module_version": "1.2.0",
            "_view_name": "StyleView",
            "bar_color": null,
            "description_width": ""
          }
        },
        "15a3e2f8b98441e3a1dff18f94b47f92": {
          "model_module": "@jupyter-widgets/controls",
          "model_module_version": "1.5.0",
          "model_name": "DescriptionStyleModel",
          "state": {
            "_model_module": "@jupyter-widgets/controls",
            "_model_module_version": "1.5.0",
            "_model_name": "DescriptionStyleModel",
            "_view_count": null,
            "_view_module": "@jupyter-widgets/base",
            "_view_module_version": "1.2.0",
            "_view_name": "StyleView",
            "description_width": ""
          }
        },
        "2e789c256a114ec2abfbf03da7d2eca3": {
          "model_module": "@jupyter-widgets/controls",
          "model_module_version": "1.5.0",
          "model_name": "FloatProgressModel",
          "state": {
            "_dom_classes": [],
            "_model_module": "@jupyter-widgets/controls",
            "_model_module_version": "1.5.0",
            "_model_name": "FloatProgressModel",
            "_view_count": null,
            "_view_module": "@jupyter-widgets/controls",
            "_view_module_version": "1.5.0",
            "_view_name": "ProgressView",
            "bar_style": "success",
            "description": "",
            "description_tooltip": null,
            "layout": "IPY_MODEL_c42a1c03eabb4c7dacfc8e9ad9af1f83",
            "max": 7,
            "min": 0,
            "orientation": "horizontal",
            "style": "IPY_MODEL_1317f69acea145e0a65467cf8bbad781",
            "value": 7
          }
        },
        "4d5db18b5d81439c9e0727637d74b377": {
          "model_module": "@jupyter-widgets/base",
          "model_module_version": "1.2.0",
          "model_name": "LayoutModel",
          "state": {
            "_model_module": "@jupyter-widgets/base",
            "_model_module_version": "1.2.0",
            "_model_name": "LayoutModel",
            "_view_count": null,
            "_view_module": "@jupyter-widgets/base",
            "_view_module_version": "1.2.0",
            "_view_name": "LayoutView",
            "align_content": null,
            "align_items": null,
            "align_self": null,
            "border": null,
            "bottom": null,
            "display": null,
            "flex": null,
            "flex_flow": null,
            "grid_area": null,
            "grid_auto_columns": null,
            "grid_auto_flow": null,
            "grid_auto_rows": null,
            "grid_column": null,
            "grid_gap": null,
            "grid_row": null,
            "grid_template_areas": null,
            "grid_template_columns": null,
            "grid_template_rows": null,
            "height": null,
            "justify_content": null,
            "justify_items": null,
            "left": null,
            "margin": null,
            "max_height": null,
            "max_width": null,
            "min_height": null,
            "min_width": null,
            "object_fit": null,
            "object_position": null,
            "order": null,
            "overflow": null,
            "overflow_x": null,
            "overflow_y": null,
            "padding": null,
            "right": null,
            "top": null,
            "visibility": null,
            "width": null
          }
        },
        "5213f64cb3e74be0abc6996acd83b0f2": {
          "model_module": "@jupyter-widgets/controls",
          "model_module_version": "1.5.0",
          "model_name": "HBoxModel",
          "state": {
            "_dom_classes": [],
            "_model_module": "@jupyter-widgets/controls",
            "_model_module_version": "1.5.0",
            "_model_name": "HBoxModel",
            "_view_count": null,
            "_view_module": "@jupyter-widgets/controls",
            "_view_module_version": "1.5.0",
            "_view_name": "HBoxView",
            "box_style": "",
            "children": [
              "IPY_MODEL_e49d8dcf941748cf829c0a289a68e2aa",
              "IPY_MODEL_2e789c256a114ec2abfbf03da7d2eca3",
              "IPY_MODEL_07934b608cd6476bba9ff4b43e1b4778"
            ],
            "layout": "IPY_MODEL_4d5db18b5d81439c9e0727637d74b377"
          }
        },
        "62fa66597934440cb69b8d4fe2b8c973": {
          "model_module": "@jupyter-widgets/base",
          "model_module_version": "1.2.0",
          "model_name": "LayoutModel",
          "state": {
            "_model_module": "@jupyter-widgets/base",
            "_model_module_version": "1.2.0",
            "_model_name": "LayoutModel",
            "_view_count": null,
            "_view_module": "@jupyter-widgets/base",
            "_view_module_version": "1.2.0",
            "_view_name": "LayoutView",
            "align_content": null,
            "align_items": null,
            "align_self": null,
            "border": null,
            "bottom": null,
            "display": null,
            "flex": null,
            "flex_flow": null,
            "grid_area": null,
            "grid_auto_columns": null,
            "grid_auto_flow": null,
            "grid_auto_rows": null,
            "grid_column": null,
            "grid_gap": null,
            "grid_row": null,
            "grid_template_areas": null,
            "grid_template_columns": null,
            "grid_template_rows": null,
            "height": null,
            "justify_content": null,
            "justify_items": null,
            "left": null,
            "margin": null,
            "max_height": null,
            "max_width": null,
            "min_height": null,
            "min_width": null,
            "object_fit": null,
            "object_position": null,
            "order": null,
            "overflow": null,
            "overflow_x": null,
            "overflow_y": null,
            "padding": null,
            "right": null,
            "top": null,
            "visibility": null,
            "width": null
          }
        },
        "873840b17f8548b2b96b79b6e1e1ac7c": {
          "model_module": "@jupyter-widgets/base",
          "model_module_version": "1.2.0",
          "model_name": "LayoutModel",
          "state": {
            "_model_module": "@jupyter-widgets/base",
            "_model_module_version": "1.2.0",
            "_model_name": "LayoutModel",
            "_view_count": null,
            "_view_module": "@jupyter-widgets/base",
            "_view_module_version": "1.2.0",
            "_view_name": "LayoutView",
            "align_content": null,
            "align_items": null,
            "align_self": null,
            "border": null,
            "bottom": null,
            "display": null,
            "flex": null,
            "flex_flow": null,
            "grid_area": null,
            "grid_auto_columns": null,
            "grid_auto_flow": null,
            "grid_auto_rows": null,
            "grid_column": null,
            "grid_gap": null,
            "grid_row": null,
            "grid_template_areas": null,
            "grid_template_columns": null,
            "grid_template_rows": null,
            "height": null,
            "justify_content": null,
            "justify_items": null,
            "left": null,
            "margin": null,
            "max_height": null,
            "max_width": null,
            "min_height": null,
            "min_width": null,
            "object_fit": null,
            "object_position": null,
            "order": null,
            "overflow": null,
            "overflow_x": null,
            "overflow_y": null,
            "padding": null,
            "right": null,
            "top": null,
            "visibility": null,
            "width": null
          }
        },
        "b0c529f95a184a2cb5e7abee7819d7e0": {
          "model_module": "@jupyter-widgets/controls",
          "model_module_version": "1.5.0",
          "model_name": "DescriptionStyleModel",
          "state": {
            "_model_module": "@jupyter-widgets/controls",
            "_model_module_version": "1.5.0",
            "_model_name": "DescriptionStyleModel",
            "_view_count": null,
            "_view_module": "@jupyter-widgets/base",
            "_view_module_version": "1.2.0",
            "_view_name": "StyleView",
            "description_width": ""
          }
        },
        "c42a1c03eabb4c7dacfc8e9ad9af1f83": {
          "model_module": "@jupyter-widgets/base",
          "model_module_version": "1.2.0",
          "model_name": "LayoutModel",
          "state": {
            "_model_module": "@jupyter-widgets/base",
            "_model_module_version": "1.2.0",
            "_model_name": "LayoutModel",
            "_view_count": null,
            "_view_module": "@jupyter-widgets/base",
            "_view_module_version": "1.2.0",
            "_view_name": "LayoutView",
            "align_content": null,
            "align_items": null,
            "align_self": null,
            "border": null,
            "bottom": null,
            "display": null,
            "flex": null,
            "flex_flow": null,
            "grid_area": null,
            "grid_auto_columns": null,
            "grid_auto_flow": null,
            "grid_auto_rows": null,
            "grid_column": null,
            "grid_gap": null,
            "grid_row": null,
            "grid_template_areas": null,
            "grid_template_columns": null,
            "grid_template_rows": null,
            "height": null,
            "justify_content": null,
            "justify_items": null,
            "left": null,
            "margin": null,
            "max_height": null,
            "max_width": null,
            "min_height": null,
            "min_width": null,
            "object_fit": null,
            "object_position": null,
            "order": null,
            "overflow": null,
            "overflow_x": null,
            "overflow_y": null,
            "padding": null,
            "right": null,
            "top": null,
            "visibility": null,
            "width": null
          }
        },
        "e49d8dcf941748cf829c0a289a68e2aa": {
          "model_module": "@jupyter-widgets/controls",
          "model_module_version": "1.5.0",
          "model_name": "HTMLModel",
          "state": {
            "_dom_classes": [],
            "_model_module": "@jupyter-widgets/controls",
            "_model_module_version": "1.5.0",
            "_model_name": "HTMLModel",
            "_view_count": null,
            "_view_module": "@jupyter-widgets/controls",
            "_view_module_version": "1.5.0",
            "_view_name": "HTMLView",
            "description": "",
            "description_tooltip": null,
            "layout": "IPY_MODEL_62fa66597934440cb69b8d4fe2b8c973",
            "placeholder": "​",
            "style": "IPY_MODEL_15a3e2f8b98441e3a1dff18f94b47f92",
            "value": "Loading pipeline components...: 100%"
          }
        }
      }
    }
  },
  "nbformat": 4,
  "nbformat_minor": 0
}
